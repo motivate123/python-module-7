{
  "nbformat": 4,
  "nbformat_minor": 0,
  "metadata": {
    "colab": {
      "provenance": []
    },
    "kernelspec": {
      "name": "python3",
      "display_name": "Python 3"
    },
    "language_info": {
      "name": "python"
    }
  },
  "cells": [
    {
      "cell_type": "code",
      "execution_count": 1,
      "metadata": {
        "id": "ZwnvkZDZlG8o"
      },
      "outputs": [],
      "source": []
    },
    {
      "cell_type": "markdown",
      "source": [
        "# File and Exception handling\n"
      ],
      "metadata": {
        "id": "9CndYH2-ldU7"
      }
    },
    {
      "cell_type": "markdown",
      "source": [
        "1. Difference between interpreted and compiled languages\n",
        "\n",
        "- Interpreted: Code is executed line-by-line by an interpreter (e.g., Python,). Slower but easier to debug.\n",
        "\n",
        "- Compiled: Code is translated into machine code before execution (e.g., C, C++). Faster but requires compilation step.\n",
        "\n",
        "2. Exception handling in Python\n",
        "\n",
        "- A way to catch and handle errors so they don’t crash the program.\n",
        "\n",
        " - Uses try, except, else, finally.\n",
        "\n",
        "3. Purpose of the finally block\n",
        "\n",
        "- Code inside finally runs no matter what — whether an exception occurs or not.\n",
        "\n",
        " Often used to close files, release resources, etc.\n",
        "\n",
        "4. Logging in Python\n",
        "\n",
        "- Recording messages about program events (errors, warnings, info) to files or console for debugging and monitoring.\n",
        "\n",
        "5. Significance of __del__ method\n",
        "\n",
        "-  Called when an object is about to be destroyed (garbage collected).\n",
        "\n",
        " Used for cleanup (closing files, releasing connections).\n",
        "\n",
        "6. Difference between import and from ... import\n",
        "\n",
        "- import module → you access with module.function().\n",
        "\n",
        " from module import function → you can call function() directly without prefix.\n",
        "\n",
        "7. Handling multiple exceptions\n",
        "\n",
        "try:\n",
        "    ...\n",
        "\n",
        "except (TypeError, ValueError) as e:\n",
        "\n",
        "    print(e)\n",
        "\n",
        "\n",
        " You can use a tuple or multiple except blocks.\n",
        "\n",
        "8. Purpose of with statement (files)\n",
        "\n",
        "- Automatically closes the file after use, even if an error occurs.\n",
        "\n",
        "with open(\"file.txt\") as f:\n",
        "\n",
        "    data = f.read()\n",
        "\n",
        "9. Difference between multithreading and multiprocessing\n",
        "\n",
        "- Multithreading: Multiple threads in the same process (share memory). Good for I/O tasks.\n",
        "\n",
        "- Multiprocessing: Multiple processes (each has its own memory). Good for CPU-heavy tasks.\n",
        "\n",
        "10. Advantages of logging\n",
        "\n",
        " - Keeps a history of program execution.\n",
        "\n",
        " - Helps debug without printing everywhere.\n",
        "\n",
        " - Can write logs to files.\n",
        "\n",
        " - Supports different severity levels.\n",
        "\n",
        "11. Memory management in Python\n",
        "\n",
        "- Automatic allocation and deallocation of memory.\n",
        "\n",
        "- Managed by garbage collector.\n",
        "\n",
        "12. Basic steps in exception handling\n",
        "\n",
        "- try: Write risky code.\n",
        "\n",
        "- except: Handle the error.\n",
        "\n",
        "- else: Runs if no error.\n",
        "\n",
        "- finally: Runs no matter what.\n",
        "\n",
        "13. Why memory management is important\n",
        "\n",
        "- Prevents memory leaks.\n",
        "\n",
        "- Improves performance.\n",
        "\n",
        "- Keeps application stable.\n",
        "\n",
        "14. Role of try and except\n",
        "\n",
        "- try: Tests code for errors.\n",
        "\n",
        "- except: Catches and handles errors.\n",
        "\n",
        "15. How Python's garbage collection works\n",
        "\n",
        "- Uses reference counting.\n",
        "\n",
        "- If an object’s reference count is zero, it’s deleted.\n",
        "\n",
        "- Cyclic garbage collector handles reference loops.\n",
        "\n",
        "16. Purpose of else block in exception handling\n",
        "\n",
        "- Runs only if no exception occurs inside the try block.\n",
        "\n",
        "17. Common logging levels\n",
        "\n",
        "- DEBUG → Detailed info for debugging.\n",
        "\n",
        "- INFO → General info.\n",
        "\n",
        "- WARNING → Something unexpected happened.\n",
        "\n",
        "- ERROR → Serious problem occurred.\n",
        "\n",
        "- CRITICAL → Program may not continue.\n",
        "\n",
        "18. Difference between os.fork() and multiprocessing\n",
        "\n",
        "os.fork() → Creates a new process by duplicating the current one (Unix only).\n",
        "\n",
        "multiprocessing → Cross-platform library for creating processes.\n",
        "\n",
        "19. Importance of closing a file\n",
        "\n",
        "Frees system resources.\n",
        "\n",
        "Ensures data is properly written to disk.\n",
        "\n",
        "20. Difference between file.read() and file.readline()\n",
        "\n",
        "read() → Reads entire file.\n",
        "\n",
        "readline() → Reads one line.\n",
        "\n",
        "21. Logging module in Python\n",
        "\n",
        "- Built-in module for logging messages with different levels and output formats.\n",
        "\n",
        "22. os module in Python (file handling)\n",
        "\n",
        "- Provides functions for interacting with the operating system (creating, removing, renaming files/directories).\n",
        "\n",
        "23. Challenges in memory management\n",
        "\n",
        "- Memory leaks.\n",
        "\n",
        "- Circular references.\n",
        "\n",
        "- Large data structures holding unused memory.\n",
        "\n",
        "24. Raising an exception manually\n",
        "- raise ValueError(\"Something went wrong\")\n",
        "\n",
        "25. Importance of multithreading in certain applications\n",
        "\n",
        "- Improves performance in I/O-bound tasks (network calls, file operations).\n",
        "\n",
        "- Keeps UI responsive while doing background work."
      ],
      "metadata": {
        "id": "QhNdtJPQlT8k"
      }
    },
    {
      "cell_type": "markdown",
      "source": [],
      "metadata": {
        "id": "ii6DNnD1nA0P"
      }
    },
    {
      "cell_type": "code",
      "source": [
        "\"\"\"1. How can you open a file for writing in Python and write a string to it\n",
        "\"\"\"\n",
        "# Open file in write mode ('w')\n",
        "with open(\"example.txt\", \"w\") as file:\n",
        "    file.write(\"Hello, this is a test string!\")\n",
        "\n",
        "print(\"Data written to file successfully.\")\n"
      ],
      "metadata": {
        "colab": {
          "base_uri": "https://localhost:8080/"
        },
        "id": "hMWj3D_mnBX-",
        "outputId": "56ab9999-c094-43dc-eed8-6bd6bed42479"
      },
      "execution_count": 2,
      "outputs": [
        {
          "output_type": "stream",
          "name": "stdout",
          "text": [
            "Data written to file successfully.\n"
          ]
        }
      ]
    },
    {
      "cell_type": "code",
      "source": [
        "\"\"\"2. Write a Python program to read the contents of a file and print each line\n",
        "\"\"\"\n",
        "with open(\"example.txt\", \"r\") as file:\n",
        "    for line in file:\n",
        "        print(line.strip())  # strip removes newline characters\n"
      ],
      "metadata": {
        "colab": {
          "base_uri": "https://localhost:8080/"
        },
        "id": "nEgjkIjrnSQl",
        "outputId": "77b931c4-0c1f-413c-aaf7-8dfc0478c1c9"
      },
      "execution_count": 3,
      "outputs": [
        {
          "output_type": "stream",
          "name": "stdout",
          "text": [
            "Hello, this is a test string!\n"
          ]
        }
      ]
    },
    {
      "cell_type": "code",
      "source": [
        "\"\"\"How would you handle a case where the file doesn't exist while trying to open it for reading\"\"\"\n",
        "try:\n",
        "    with open(\"nonexistent.txt\", \"r\") as file:\n",
        "        print(file.read())\n",
        "except FileNotFoundError:\n",
        "    print(\"Error: File does not exist!\")\n"
      ],
      "metadata": {
        "colab": {
          "base_uri": "https://localhost:8080/"
        },
        "id": "-spU4cjTnTaK",
        "outputId": "895b915b-6f19-4ed0-d212-66a1c9a0d25a"
      },
      "execution_count": 4,
      "outputs": [
        {
          "output_type": "stream",
          "name": "stdout",
          "text": [
            "Error: File does not exist!\n"
          ]
        }
      ]
    },
    {
      "cell_type": "code",
      "source": [
        "\"\"\"\"\"\"\n",
        "try:\n",
        "    with open(\"source.txt\", \"r\") as src, open(\"destination.txt\", \"w\") as dest:\n",
        "        for line in src:\n",
        "            dest.write(line)\n",
        "    print(\"File copied successfully.\")\n",
        "except FileNotFoundError:\n",
        "    print(\"Error: source.txt not found.\")\n",
        "except OSError as e:\n",
        "    print(f\"File operation failed: {e}\")\n",
        "\n"
      ],
      "metadata": {
        "colab": {
          "base_uri": "https://localhost:8080/"
        },
        "id": "FOnpK_09nXF6",
        "outputId": "45f83612-9d47-4278-feed-598b41ef2dfd"
      },
      "execution_count": 7,
      "outputs": [
        {
          "output_type": "stream",
          "name": "stdout",
          "text": [
            "Error: source.txt not found.\n"
          ]
        }
      ]
    },
    {
      "cell_type": "code",
      "source": [
        "\"\"\"\"\"\"\n",
        "try:\n",
        "    result = 10 / 0\n",
        "except ZeroDivisionError:\n",
        "    print(\"Error: Division by zero is not allowed!\")\n"
      ],
      "metadata": {
        "colab": {
          "base_uri": "https://localhost:8080/"
        },
        "id": "A8FhWRzhnZZh",
        "outputId": "73e4a085-8128-46ae-b51f-b5e33e2a7f5d"
      },
      "execution_count": 8,
      "outputs": [
        {
          "output_type": "stream",
          "name": "stdout",
          "text": [
            "Error: Division by zero is not allowed!\n"
          ]
        }
      ]
    },
    {
      "cell_type": "code",
      "source": [
        "\"\"\"\"\"\"\n",
        "import logging\n",
        "\n",
        "logging.basicConfig(filename=\"error.log\", level=logging.ERROR)\n",
        "\n",
        "try:\n",
        "    result = 10 / 0\n",
        "except ZeroDivisionError:\n",
        "    logging.error(\"Division by zero attempted!\")  # No traceback\n",
        "\n"
      ],
      "metadata": {
        "colab": {
          "base_uri": "https://localhost:8080/"
        },
        "id": "1gJX6rxTnby8",
        "outputId": "1d5a0a45-9797-42f7-c6d3-a943d00446c9"
      },
      "execution_count": 10,
      "outputs": [
        {
          "output_type": "stream",
          "name": "stderr",
          "text": [
            "ERROR:root:Division by zero attempted!\n"
          ]
        }
      ]
    },
    {
      "cell_type": "code",
      "source": [
        "\"\"\"\"\"\"\n",
        "import logging\n",
        "\n",
        "logging.basicConfig(filename=\"app.log\", level=logging.DEBUG)\n",
        "\n",
        "logging.info(\"This is an info message\")\n",
        "logging.warning(\"This is a warning message\")\n",
        "logging.error(\"This is an error message\")\n"
      ],
      "metadata": {
        "colab": {
          "base_uri": "https://localhost:8080/"
        },
        "id": "1s7hrj7RneG0",
        "outputId": "bc3212a0-d0ea-481a-ff11-d2985a0764a5"
      },
      "execution_count": 11,
      "outputs": [
        {
          "output_type": "stream",
          "name": "stderr",
          "text": [
            "WARNING:root:This is a warning message\n",
            "ERROR:root:This is an error message\n"
          ]
        }
      ]
    },
    {
      "cell_type": "code",
      "source": [
        "\"\"\"\"\"\"\n",
        "try:\n",
        "    with open(\"randomfile.txt\", \"r\") as f:\n",
        "        print(f.read())\n",
        "except OSError as e:\n",
        "    print(f\"File error: {e}\")\n",
        "\"\"\"\"\"\""
      ],
      "metadata": {
        "colab": {
          "base_uri": "https://localhost:8080/"
        },
        "id": "NagQ8I4pngSN",
        "outputId": "875cdae7-8427-4a58-ebcd-414bb87c4c5d"
      },
      "execution_count": 12,
      "outputs": [
        {
          "output_type": "stream",
          "name": "stdout",
          "text": [
            "File error: [Errno 2] No such file or directory: 'randomfile.txt'\n"
          ]
        }
      ]
    },
    {
      "cell_type": "code",
      "source": [
        "\"\"\"\"\"\"\n",
        "with open(\"example.txt\", \"r\") as f:\n",
        "    lines = f.readlines()\n",
        "\n",
        "print(lines)\n"
      ],
      "metadata": {
        "colab": {
          "base_uri": "https://localhost:8080/"
        },
        "id": "F3fwCpVPnjGM",
        "outputId": "0d8b007e-59c6-4b81-8c69-d0894eb14d5d"
      },
      "execution_count": 13,
      "outputs": [
        {
          "output_type": "stream",
          "name": "stdout",
          "text": [
            "['Hello, this is a test string!']\n"
          ]
        }
      ]
    },
    {
      "cell_type": "code",
      "source": [
        "\"\"\"\"\"\"\n",
        "with open(\"example.txt\", \"a\") as f:\n",
        "    f.write(\"\\nThis is appended text.\")\n"
      ],
      "metadata": {
        "id": "McI_G2Lgnloi"
      },
      "execution_count": 15,
      "outputs": []
    },
    {
      "cell_type": "code",
      "source": [
        "\"\"\"\"\"\"\n",
        "data = {\"name\": \"Alice\"}\n",
        "\n",
        "try:\n",
        "    print(data[\"age\"])\n",
        "except KeyError:\n",
        "    print(\"Key not found in dictionary.\")\n"
      ],
      "metadata": {
        "colab": {
          "base_uri": "https://localhost:8080/"
        },
        "id": "N3TpDZybnoyb",
        "outputId": "131f67f7-61d9-42ca-87ca-ad7f38df602c"
      },
      "execution_count": 16,
      "outputs": [
        {
          "output_type": "stream",
          "name": "stdout",
          "text": [
            "Key not found in dictionary.\n"
          ]
        }
      ]
    },
    {
      "cell_type": "code",
      "source": [
        "\"\"\"\"\"\"\n",
        "try:\n",
        "    num = int(\"abc\")  # ValueError\n",
        "    result = 10 / 0   # ZeroDivisionError\n",
        "except ValueError:\n",
        "    print(\"Invalid value entered.\")\n",
        "except ZeroDivisionError:\n",
        "    print(\"Division by zero.\")\n"
      ],
      "metadata": {
        "colab": {
          "base_uri": "https://localhost:8080/"
        },
        "id": "8lfpIPnnnqkY",
        "outputId": "e8861d35-ddb9-4fc1-99c6-dbebb49d04d7"
      },
      "execution_count": 17,
      "outputs": [
        {
          "output_type": "stream",
          "name": "stdout",
          "text": [
            "Invalid value entered.\n"
          ]
        }
      ]
    },
    {
      "cell_type": "code",
      "source": [
        "\"\"\"\"\"\"\n",
        "import os\n",
        "\n",
        "if os.path.exists(\"example.txt\"):\n",
        "    with open(\"example.txt\", \"r\") as f:\n",
        "        print(f.read())\n",
        "else:\n",
        "    print(\"File does not exist.\")\n"
      ],
      "metadata": {
        "colab": {
          "base_uri": "https://localhost:8080/"
        },
        "id": "bZ2JjAb2ns48",
        "outputId": "bd97580d-03a6-4e40-84c4-cbc5e4b676c5"
      },
      "execution_count": 18,
      "outputs": [
        {
          "output_type": "stream",
          "name": "stdout",
          "text": [
            "Hello, this is a test string!\n",
            "This is appended text.\n",
            "This is appended text.\n"
          ]
        }
      ]
    },
    {
      "cell_type": "code",
      "source": [
        "\n",
        "\n"
      ],
      "metadata": {
        "id": "LsFw9FcYnvFB"
      },
      "execution_count": 22,
      "outputs": []
    },
    {
      "cell_type": "code",
      "source": [
        "\"\"\"\"\"\"\n",
        "file_path = \"example.txt\"\n",
        "\n",
        "try:\n",
        "    with open(file_path, \"r\") as f:\n",
        "        content = f.read()\n",
        "        if content.strip() == \"\":\n",
        "            print(\"File is empty.\")\n",
        "        else:\n",
        "            print(content)\n",
        "except FileNotFoundError:\n",
        "    print(\"File not found.\")\n"
      ],
      "metadata": {
        "colab": {
          "base_uri": "https://localhost:8080/"
        },
        "id": "AHP3j-TInwzF",
        "outputId": "77e0e0b3-b823-4402-b6ea-10fa1f7d5762"
      },
      "execution_count": 23,
      "outputs": [
        {
          "output_type": "stream",
          "name": "stdout",
          "text": [
            "Hello, this is a test string!\n",
            "This is appended text.\n",
            "This is appended text.\n"
          ]
        }
      ]
    },
    {
      "cell_type": "code",
      "source": [
        "\n",
        "\"\"\"\"\"\"\n",
        "!pip install memory-profiler psutil\n",
        "\n",
        "\n",
        "%load_ext memory_profiler\n",
        "\n",
        "\n",
        "with open(\"my_module.py\", \"w\") as f:\n",
        "    f.write(\"\"\"\n",
        "def my_func():\n",
        "    nums = [i for i in range(100000)]\n",
        "    return sum(nums)\n",
        "\"\"\")\n",
        "\n",
        "\n",
        "from my_module import my_func\n",
        "\n",
        "\n",
        "%memit my_func()\n",
        "\n",
        "\n",
        "%mprun -f my_func my_func()\n"
      ],
      "metadata": {
        "colab": {
          "base_uri": "https://localhost:8080/"
        },
        "id": "ER-I3Oqsn10J",
        "outputId": "eface100-5474-4883-a405-2eb5e915b339"
      },
      "execution_count": 37,
      "outputs": [
        {
          "output_type": "stream",
          "name": "stdout",
          "text": [
            "Requirement already satisfied: memory-profiler in /usr/local/lib/python3.11/dist-packages (0.61.0)\n",
            "Requirement already satisfied: psutil in /usr/local/lib/python3.11/dist-packages (5.9.5)\n",
            "The memory_profiler extension is already loaded. To reload it, use:\n",
            "  %reload_ext memory_profiler\n",
            "peak memory: 124.77 MiB, increment: 0.00 MiB\n",
            "\n"
          ]
        }
      ]
    },
    {
      "cell_type": "code",
      "source": [
        "\"\"\"\"\"\"\n",
        "numbers = [1, 2, 3, 4, 5]\n",
        "\n",
        "with open(\"numbers.txt\", \"w\") as f:\n",
        "    for num in numbers:\n",
        "        f.write(f\"{num}\\n\")\n"
      ],
      "metadata": {
        "id": "Mx4aqZJVn60U"
      },
      "execution_count": 33,
      "outputs": []
    },
    {
      "cell_type": "code",
      "source": [
        "\"\"\"\"\"\"\n",
        "import logging\n",
        "from logging.handlers import RotatingFileHandler\n",
        "\n",
        "handler = RotatingFileHandler(\"app.log\", maxBytes=1_000_000, backupCount=3)\n",
        "logging.basicConfig(handlers=[handler], level=logging.DEBUG)\n",
        "\n",
        "logging.info(\"This is a rotating log message.\")\n"
      ],
      "metadata": {
        "colab": {
          "base_uri": "https://localhost:8080/"
        },
        "id": "ma17GS3mn9Pb",
        "outputId": "7e01986f-1ffc-48c6-faa5-65a6bdfa1520"
      },
      "execution_count": 32,
      "outputs": [
        {
          "output_type": "stream",
          "name": "stderr",
          "text": [
            "INFO:root:This is a rotating log message.\n",
            "2025-08-14 12:57:00,172 - INFO - This is a rotating log message.\n",
            "2025-08-14 12:57:00,172 - INFO - This is a rotating log message.\n"
          ]
        }
      ]
    },
    {
      "cell_type": "code",
      "source": [
        "\"\"\"\"\"\"\n",
        "data = {\"name\": \"Alice\"}\n",
        "lst = [1, 2, 3]\n",
        "\n",
        "try:\n",
        "    print(data[\"age\"])   # KeyError\n",
        "    print(lst[5])        # IndexError\n",
        "except KeyError:\n",
        "    print(\"Key not found.\")\n",
        "except IndexError:\n",
        "    print(\"Index out of range.\")\n"
      ],
      "metadata": {
        "colab": {
          "base_uri": "https://localhost:8080/"
        },
        "id": "je8PRFSTn_Sk",
        "outputId": "12b6928f-1a4d-494d-c3cb-6d9e14cf2cd4"
      },
      "execution_count": 31,
      "outputs": [
        {
          "output_type": "stream",
          "name": "stdout",
          "text": [
            "Key not found.\n"
          ]
        }
      ]
    },
    {
      "cell_type": "code",
      "source": [
        "\"\"\"How would you open a file and read its contents using a context manager in Python\"\"\"\n",
        "with open(\"example.txt\", \"r\") as f:\n",
        "    content = f.read()\n",
        "    print(content)\n"
      ],
      "metadata": {
        "colab": {
          "base_uri": "https://localhost:8080/"
        },
        "id": "HbHWMJRQoBkN",
        "outputId": "a31fa5c9-c2d8-44e9-c6fc-21dd151d4ebc"
      },
      "execution_count": 29,
      "outputs": [
        {
          "output_type": "stream",
          "name": "stdout",
          "text": [
            "Hello, this is a test string!\n",
            "This is appended text.\n",
            "This is appended text.\n"
          ]
        }
      ]
    },
    {
      "cell_type": "code",
      "source": [
        "\"\"\"\n",
        "Write a Python program that reads a file and prints the number of occurrences of a specific wordF\n",
        "\"\"\"\n",
        "word_to_count = \"Python\"\n",
        "\n",
        "with open(\"example.txt\", \"r\") as f:\n",
        "    content = f.read()\n",
        "\n",
        "count = content.count(word_to_count)\n",
        "print(f\"The word '{word_to_count}' occurs {count} times.\")\n"
      ],
      "metadata": {
        "colab": {
          "base_uri": "https://localhost:8080/"
        },
        "id": "BASbyFp9oEZP",
        "outputId": "6602843c-a828-4ee2-d51d-d4551ea68370"
      },
      "execution_count": 28,
      "outputs": [
        {
          "output_type": "stream",
          "name": "stdout",
          "text": [
            "The word 'Python' occurs 0 times.\n"
          ]
        }
      ]
    },
    {
      "cell_type": "code",
      "source": [
        "\"\"\"how can you check if a file is empty before attempting to read its content\"\"\"\n",
        "import os\n",
        "\n",
        "if os.path.exists(\"example.txt\") and os.path.getsize(\"example.txt\") == 0:\n",
        "    print(\"File is empty.\")\n"
      ],
      "metadata": {
        "id": "uwEscyMKoIzK"
      },
      "execution_count": 27,
      "outputs": []
    },
    {
      "cell_type": "code",
      "source": [
        "\"\"\" Write a Python program that writes to a log file when an error occurs during file handling.\"\"\"\n",
        "import logging\n",
        "\n",
        "# Remove old handlers to avoid duplicate logs\n",
        "for handler in logging.root.handlers[:]:\n",
        "    logging.root.removeHandler(handler)\n",
        "\n",
        "# Configure logging for both file and console\n",
        "logging.basicConfig(\n",
        "    level=logging.ERROR,\n",
        "    format=\"%(asctime)s - %(levelname)s - %(message)s\",\n",
        "    handlers=[\n",
        "        logging.FileHandler(\"file_error.log\"),\n",
        "        logging.StreamHandler()\n",
        "    ]\n",
        ")\n",
        "\n",
        "file_path = \"nonexistent.txt\"\n",
        "\n",
        "try:\n",
        "    with open(file_path, \"r\") as f:\n",
        "        print(f.read())\n",
        "except Exception as e:\n",
        "    logging.error(f\"Error occurred: {e}\")\n",
        "    print(\"Check 'file_error.log' for error details.\")\n",
        "\n"
      ],
      "metadata": {
        "colab": {
          "base_uri": "https://localhost:8080/"
        },
        "id": "bxMqfQJFoLBf",
        "outputId": "a9d719e3-a3dc-4352-e38f-ebf5eb612517"
      },
      "execution_count": 38,
      "outputs": [
        {
          "output_type": "stream",
          "name": "stderr",
          "text": [
            "2025-08-14 13:10:59,422 - ERROR - Error occurred: [Errno 2] No such file or directory: 'nonexistent.txt'\n"
          ]
        },
        {
          "output_type": "stream",
          "name": "stdout",
          "text": [
            "Check 'file_error.log' for error details.\n"
          ]
        }
      ]
    }
  ]
}